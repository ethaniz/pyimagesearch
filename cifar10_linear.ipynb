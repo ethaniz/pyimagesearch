{
 "cells": [
  {
   "cell_type": "code",
   "execution_count": 1,
   "metadata": {},
   "outputs": [],
   "source": [
    "from sklearn.preprocessing import LabelBinarizer\n",
    "from sklearn.metrics import classification_report\n",
    "import matplotlib.pyplot as plt\n",
    "import numpy as np\n",
    "import argparse"
   ]
  },
  {
   "cell_type": "code",
   "execution_count": 2,
   "metadata": {},
   "outputs": [
    {
     "name": "stderr",
     "output_type": "stream",
     "text": [
      "Using TensorFlow backend.\n",
      "/data/tangle/pyimagesearch/venv/lib/python3.6/importlib/_bootstrap.py:219: RuntimeWarning: compiletime version 3.5 of module 'tensorflow.python.framework.fast_tensor_util' does not match runtime version 3.6\n",
      "  return f(*args, **kwds)\n"
     ]
    }
   ],
   "source": [
    "from keras.models import Sequential\n",
    "from keras.layers.core import Dense\n",
    "from keras.optimizers import SGD\n",
    "from keras.datasets import cifar10"
   ]
  },
  {
   "cell_type": "code",
   "execution_count": 11,
   "metadata": {},
   "outputs": [],
   "source": [
    "import pickle\n",
    "import numpy\n",
    "# load data\n",
    "with open('/home/tangle/.keras/datasets/cifar-10-batches-py/data_batch_1','rb') as f:\n",
    "    dict1 = pickle.load(f,encoding='bytes')\n",
    "\n",
    "with open('/home/tangle/.keras/datasets/cifar-10-batches-py/data_batch_2','rb') as f:\n",
    "    dict2 = pickle.load(f,encoding='bytes')\n",
    "\n",
    "with open('/home/tangle/.keras/datasets/cifar-10-batches-py/data_batch_3','rb') as f:\n",
    "    dict3 = pickle.load(f,encoding='bytes')\n",
    "\n",
    "with open('/home/tangle/.keras/datasets/cifar-10-batches-py/data_batch_4','rb') as f:\n",
    "    dict4 = pickle.load(f,encoding='bytes')\n",
    "\n",
    "with open('/home/tangle/.keras/datasets/cifar-10-batches-py/data_batch_5','rb') as f:\n",
    "    dict5 = pickle.load(f,encoding='bytes')\n",
    "    \n",
    "x1 = dict1[b'data']\n",
    "x2 = dict2[b'data']\n",
    "x3 = dict3[b'data']\n",
    "x4 = dict4[b'data']\n",
    "x5 = dict5[b'data']\n",
    "#x = x1.append(x2).append(x3).append(x4).append(x5)\n",
    "x = np.concatenate([x1, x2, x3, x4, x5])\n",
    "x = x.reshape(len(x), 32, 32, 3).astype('float32')\n",
    "\n",
    "y1 = numpy.asarray(dict1[b'labels'])\n",
    "y2 = numpy.asarray(dict2[b'labels'])\n",
    "y3 = numpy.asarray(dict3[b'labels'])\n",
    "y4 = numpy.asarray(dict4[b'labels'])\n",
    "y5 = numpy.asarray(dict5[b'labels'])\n",
    "y = np.concatenate([y1, y2, y3, y4, y5])\n",
    "#y = y1.append(y2).append(y3).append(y4).append(y5)\n",
    "\n",
    "testX = x[0:int(0.2 * x.shape[0]), :, :, :]\n",
    "testY = y[0:int(0.2 * y.shape[0])]\n",
    "trainX = x[int(0.2 * x.shape[0]):x.shape[0], :, :, :]\n",
    "trainY = y[int(0.2 * y.shape[0]):y.shape[0]]"
   ]
  },
  {
   "cell_type": "code",
   "execution_count": 13,
   "metadata": {},
   "outputs": [
    {
     "data": {
      "text/plain": [
       "(50000,)"
      ]
     },
     "execution_count": 13,
     "metadata": {},
     "output_type": "execute_result"
    }
   ],
   "source": [
    "y.shape"
   ]
  },
  {
   "cell_type": "code",
   "execution_count": 14,
   "metadata": {},
   "outputs": [],
   "source": [
    "trainX = trainX.astype(\"float\") / 255.0\n",
    "testX = testX.astype(\"float\") / 255.0\n",
    "trainX = trainX.reshape((trainX.shape[0], 3072))\n",
    "testX = testX.reshape((testX.shape[0], 3072))"
   ]
  },
  {
   "cell_type": "code",
   "execution_count": 15,
   "metadata": {},
   "outputs": [],
   "source": [
    "lb = LabelBinarizer()\n",
    "trainY = lb.fit_transform(trainY)\n",
    "testY = lb.transform(testY)"
   ]
  },
  {
   "cell_type": "code",
   "execution_count": 16,
   "metadata": {},
   "outputs": [],
   "source": [
    "model = Sequential()\n",
    "model.add(Dense(1024, input_shape=(3072, ), activation=\"relu\"))\n",
    "model.add(Dense(512, activation=\"relu\"))\n",
    "model.add(Dense(10, activation=\"softmax\"))"
   ]
  },
  {
   "cell_type": "code",
   "execution_count": 17,
   "metadata": {},
   "outputs": [],
   "source": [
    "sgd = SGD(0.01)\n",
    "model.compile(loss=\"categorical_crossentropy\", optimizer=sgd, metrics=[\"accuracy\"])"
   ]
  },
  {
   "cell_type": "code",
   "execution_count": 18,
   "metadata": {},
   "outputs": [
    {
     "name": "stdout",
     "output_type": "stream",
     "text": [
      "Train on 40000 samples, validate on 10000 samples\n",
      "Epoch 1/100\n",
      "40000/40000 [==============================] - 8s - loss: 1.8724 - acc: 0.3315 - val_loss: 1.7242 - val_acc: 0.3966\n",
      "Epoch 2/100\n",
      "40000/40000 [==============================] - 7s - loss: 1.6876 - acc: 0.4016 - val_loss: 1.6323 - val_acc: 0.4203\n",
      "Epoch 3/100\n",
      "40000/40000 [==============================] - 7s - loss: 1.6044 - acc: 0.4347 - val_loss: 1.5590 - val_acc: 0.4474\n",
      "Epoch 4/100\n",
      "40000/40000 [==============================] - 7s - loss: 1.5471 - acc: 0.4547 - val_loss: 1.5398 - val_acc: 0.4537\n",
      "Epoch 5/100\n",
      "40000/40000 [==============================] - 7s - loss: 1.4984 - acc: 0.4724 - val_loss: 1.5086 - val_acc: 0.4626\n",
      "Epoch 6/100\n",
      "40000/40000 [==============================] - 7s - loss: 1.4575 - acc: 0.4848 - val_loss: 1.5218 - val_acc: 0.4596\n",
      "Epoch 7/100\n",
      "40000/40000 [==============================] - 7s - loss: 1.4216 - acc: 0.4992 - val_loss: 1.4750 - val_acc: 0.4803\n",
      "Epoch 8/100\n",
      "40000/40000 [==============================] - 7s - loss: 1.3850 - acc: 0.5120 - val_loss: 1.4715 - val_acc: 0.4735\n",
      "Epoch 9/100\n",
      "40000/40000 [==============================] - 7s - loss: 1.3554 - acc: 0.5225 - val_loss: 1.4330 - val_acc: 0.4933\n",
      "Epoch 10/100\n",
      "40000/40000 [==============================] - 7s - loss: 1.3311 - acc: 0.5302 - val_loss: 1.4211 - val_acc: 0.4950\n",
      "Epoch 11/100\n",
      "40000/40000 [==============================] - 7s - loss: 1.3021 - acc: 0.5426 - val_loss: 1.3961 - val_acc: 0.5125\n",
      "Epoch 12/100\n",
      "40000/40000 [==============================] - 7s - loss: 1.2782 - acc: 0.5504 - val_loss: 1.3985 - val_acc: 0.5053\n",
      "Epoch 13/100\n",
      "40000/40000 [==============================] - 7s - loss: 1.2535 - acc: 0.5611 - val_loss: 1.3894 - val_acc: 0.5140\n",
      "Epoch 14/100\n",
      "40000/40000 [==============================] - 7s - loss: 1.2285 - acc: 0.5712 - val_loss: 1.4099 - val_acc: 0.5066\n",
      "Epoch 15/100\n",
      "40000/40000 [==============================] - 7s - loss: 1.2070 - acc: 0.5760 - val_loss: 1.4762 - val_acc: 0.4898\n",
      "Epoch 16/100\n",
      "40000/40000 [==============================] - 7s - loss: 1.1840 - acc: 0.5821 - val_loss: 1.3535 - val_acc: 0.5257\n",
      "Epoch 17/100\n",
      "40000/40000 [==============================] - 7s - loss: 1.1624 - acc: 0.5933 - val_loss: 1.3585 - val_acc: 0.5192\n",
      "Epoch 18/100\n",
      "40000/40000 [==============================] - 7s - loss: 1.1389 - acc: 0.6013 - val_loss: 1.3754 - val_acc: 0.5211\n",
      "Epoch 19/100\n",
      "40000/40000 [==============================] - 7s - loss: 1.1155 - acc: 0.6091 - val_loss: 1.3526 - val_acc: 0.5271\n",
      "Epoch 20/100\n",
      "40000/40000 [==============================] - 6s - loss: 1.0991 - acc: 0.6152 - val_loss: 1.3607 - val_acc: 0.5270\n",
      "Epoch 21/100\n",
      "40000/40000 [==============================] - 6s - loss: 1.0717 - acc: 0.6267 - val_loss: 1.3667 - val_acc: 0.5229\n",
      "Epoch 22/100\n",
      "40000/40000 [==============================] - 7s - loss: 1.0509 - acc: 0.6322 - val_loss: 1.3922 - val_acc: 0.5122\n",
      "Epoch 23/100\n",
      "40000/40000 [==============================] - 7s - loss: 1.0327 - acc: 0.6393 - val_loss: 1.3513 - val_acc: 0.5310\n",
      "Epoch 24/100\n",
      "40000/40000 [==============================] - 7s - loss: 1.0116 - acc: 0.6493 - val_loss: 1.3721 - val_acc: 0.5275\n",
      "Epoch 25/100\n",
      "40000/40000 [==============================] - 7s - loss: 0.9904 - acc: 0.6550 - val_loss: 1.4057 - val_acc: 0.5224\n",
      "Epoch 26/100\n",
      "40000/40000 [==============================] - 7s - loss: 0.9677 - acc: 0.6624 - val_loss: 1.3630 - val_acc: 0.5328\n",
      "Epoch 27/100\n",
      "40000/40000 [==============================] - 7s - loss: 0.9482 - acc: 0.6714 - val_loss: 1.3899 - val_acc: 0.5249\n",
      "Epoch 28/100\n",
      "40000/40000 [==============================] - 7s - loss: 0.9242 - acc: 0.6786 - val_loss: 1.3242 - val_acc: 0.5438\n",
      "Epoch 29/100\n",
      "40000/40000 [==============================] - 7s - loss: 0.9042 - acc: 0.6853 - val_loss: 1.3614 - val_acc: 0.5320\n",
      "Epoch 30/100\n",
      "40000/40000 [==============================] - 7s - loss: 0.8824 - acc: 0.6931 - val_loss: 1.3566 - val_acc: 0.5384\n",
      "Epoch 31/100\n",
      "40000/40000 [==============================] - 7s - loss: 0.8636 - acc: 0.7023 - val_loss: 1.3379 - val_acc: 0.5445\n",
      "Epoch 32/100\n",
      "40000/40000 [==============================] - 7s - loss: 0.8432 - acc: 0.7085 - val_loss: 1.3436 - val_acc: 0.5458\n",
      "Epoch 33/100\n",
      "40000/40000 [==============================] - 7s - loss: 0.8229 - acc: 0.7156 - val_loss: 1.3378 - val_acc: 0.5502\n",
      "Epoch 34/100\n",
      "40000/40000 [==============================] - 7s - loss: 0.8025 - acc: 0.7229 - val_loss: 1.3707 - val_acc: 0.5449\n",
      "Epoch 35/100\n",
      "40000/40000 [==============================] - 7s - loss: 0.7795 - acc: 0.7307 - val_loss: 1.3529 - val_acc: 0.5494\n",
      "Epoch 36/100\n",
      "40000/40000 [==============================] - 7s - loss: 0.7611 - acc: 0.7374 - val_loss: 1.3610 - val_acc: 0.5503\n",
      "Epoch 37/100\n",
      "40000/40000 [==============================] - 7s - loss: 0.7422 - acc: 0.7455 - val_loss: 1.3964 - val_acc: 0.5384\n",
      "Epoch 38/100\n",
      "40000/40000 [==============================] - 7s - loss: 0.7184 - acc: 0.7540 - val_loss: 1.5403 - val_acc: 0.5168\n",
      "Epoch 39/100\n",
      "40000/40000 [==============================] - 7s - loss: 0.7001 - acc: 0.7602 - val_loss: 1.4703 - val_acc: 0.5330\n",
      "Epoch 40/100\n",
      "40000/40000 [==============================] - 7s - loss: 0.6808 - acc: 0.7677 - val_loss: 1.4000 - val_acc: 0.5489\n",
      "Epoch 41/100\n",
      "40000/40000 [==============================] - 7s - loss: 0.6593 - acc: 0.7767 - val_loss: 1.4378 - val_acc: 0.5385\n",
      "Epoch 42/100\n",
      "40000/40000 [==============================] - 7s - loss: 0.6365 - acc: 0.7842 - val_loss: 1.4288 - val_acc: 0.5460\n",
      "Epoch 43/100\n",
      "40000/40000 [==============================] - 7s - loss: 0.6190 - acc: 0.7884 - val_loss: 1.4607 - val_acc: 0.5453\n",
      "Epoch 44/100\n",
      "40000/40000 [==============================] - 7s - loss: 0.6039 - acc: 0.7938 - val_loss: 1.4609 - val_acc: 0.5420\n",
      "Epoch 45/100\n",
      "40000/40000 [==============================] - 7s - loss: 0.5839 - acc: 0.8017 - val_loss: 1.4211 - val_acc: 0.5555\n",
      "Epoch 46/100\n",
      "40000/40000 [==============================] - 7s - loss: 0.5604 - acc: 0.8102 - val_loss: 1.4879 - val_acc: 0.5353\n",
      "Epoch 47/100\n",
      "40000/40000 [==============================] - 7s - loss: 0.5453 - acc: 0.8174 - val_loss: 1.4681 - val_acc: 0.5468\n",
      "Epoch 48/100\n",
      "40000/40000 [==============================] - 7s - loss: 0.5262 - acc: 0.8237 - val_loss: 1.5252 - val_acc: 0.5341\n",
      "Epoch 49/100\n",
      "40000/40000 [==============================] - 7s - loss: 0.5094 - acc: 0.8297 - val_loss: 1.5159 - val_acc: 0.5457\n",
      "Epoch 50/100\n",
      "40000/40000 [==============================] - 7s - loss: 0.4876 - acc: 0.8378 - val_loss: 1.5502 - val_acc: 0.5425\n",
      "Epoch 51/100\n",
      "40000/40000 [==============================] - 7s - loss: 0.4736 - acc: 0.8430 - val_loss: 1.7034 - val_acc: 0.5136\n",
      "Epoch 52/100\n",
      "40000/40000 [==============================] - 7s - loss: 0.4506 - acc: 0.8521 - val_loss: 1.7255 - val_acc: 0.5025\n",
      "Epoch 53/100\n",
      "40000/40000 [==============================] - 7s - loss: 0.4414 - acc: 0.8548 - val_loss: 1.6274 - val_acc: 0.5255\n",
      "Epoch 54/100\n",
      "40000/40000 [==============================] - 7s - loss: 0.4177 - acc: 0.8648 - val_loss: 1.5640 - val_acc: 0.5423\n",
      "Epoch 55/100\n",
      "40000/40000 [==============================] - 7s - loss: 0.4053 - acc: 0.8674 - val_loss: 1.5715 - val_acc: 0.5463\n",
      "Epoch 56/100\n",
      "40000/40000 [==============================] - 7s - loss: 0.3882 - acc: 0.8749 - val_loss: 1.6044 - val_acc: 0.5492\n",
      "Epoch 57/100\n",
      "40000/40000 [==============================] - 7s - loss: 0.3753 - acc: 0.8799 - val_loss: 1.6297 - val_acc: 0.5482\n",
      "Epoch 58/100\n",
      "40000/40000 [==============================] - 7s - loss: 0.3610 - acc: 0.8847 - val_loss: 1.6175 - val_acc: 0.5503\n",
      "Epoch 59/100\n",
      "40000/40000 [==============================] - 7s - loss: 0.3455 - acc: 0.8929 - val_loss: 1.6499 - val_acc: 0.5458\n",
      "Epoch 60/100\n",
      "40000/40000 [==============================] - 7s - loss: 0.3269 - acc: 0.8987 - val_loss: 1.6346 - val_acc: 0.5558\n",
      "Epoch 61/100\n",
      "40000/40000 [==============================] - 7s - loss: 0.3188 - acc: 0.8988 - val_loss: 1.6249 - val_acc: 0.5557\n",
      "Epoch 62/100\n",
      "40000/40000 [==============================] - 7s - loss: 0.2963 - acc: 0.9088 - val_loss: 1.7538 - val_acc: 0.5395\n",
      "Epoch 63/100\n",
      "40000/40000 [==============================] - 7s - loss: 0.2894 - acc: 0.9107 - val_loss: 1.6770 - val_acc: 0.5493\n",
      "Epoch 64/100\n"
     ]
    },
    {
     "name": "stdout",
     "output_type": "stream",
     "text": [
      "40000/40000 [==============================] - 7s - loss: 0.2747 - acc: 0.9143 - val_loss: 1.7048 - val_acc: 0.5512\n",
      "Epoch 65/100\n",
      "40000/40000 [==============================] - 7s - loss: 0.2641 - acc: 0.9198 - val_loss: 1.8025 - val_acc: 0.5439\n",
      "Epoch 66/100\n",
      "40000/40000 [==============================] - 7s - loss: 0.2523 - acc: 0.9245 - val_loss: 1.7505 - val_acc: 0.5535\n",
      "Epoch 67/100\n",
      "40000/40000 [==============================] - 7s - loss: 0.2384 - acc: 0.9297 - val_loss: 1.7669 - val_acc: 0.5439\n",
      "Epoch 68/100\n",
      "40000/40000 [==============================] - 7s - loss: 0.2271 - acc: 0.9345 - val_loss: 1.9309 - val_acc: 0.5338\n",
      "Epoch 69/100\n",
      "40000/40000 [==============================] - 7s - loss: 0.2154 - acc: 0.9364 - val_loss: 1.8034 - val_acc: 0.5539\n",
      "Epoch 70/100\n",
      "40000/40000 [==============================] - 7s - loss: 0.2006 - acc: 0.9433 - val_loss: 1.8213 - val_acc: 0.5447\n",
      "Epoch 71/100\n",
      "40000/40000 [==============================] - 7s - loss: 0.1913 - acc: 0.9461 - val_loss: 1.9212 - val_acc: 0.5394\n",
      "Epoch 72/100\n",
      "40000/40000 [==============================] - 7s - loss: 0.1878 - acc: 0.9475 - val_loss: 1.9721 - val_acc: 0.5323\n",
      "Epoch 73/100\n",
      "40000/40000 [==============================] - 7s - loss: 0.1794 - acc: 0.9501 - val_loss: 1.8916 - val_acc: 0.5467\n",
      "Epoch 74/100\n",
      "40000/40000 [==============================] - 7s - loss: 0.1656 - acc: 0.9544 - val_loss: 1.9069 - val_acc: 0.5520\n",
      "Epoch 75/100\n",
      "40000/40000 [==============================] - 7s - loss: 0.1606 - acc: 0.9569 - val_loss: 1.9195 - val_acc: 0.5483\n",
      "Epoch 76/100\n",
      "40000/40000 [==============================] - 7s - loss: 0.1485 - acc: 0.9617 - val_loss: 2.0034 - val_acc: 0.5454\n",
      "Epoch 77/100\n",
      "40000/40000 [==============================] - 7s - loss: 0.1385 - acc: 0.9649 - val_loss: 1.9626 - val_acc: 0.5384\n",
      "Epoch 78/100\n",
      "40000/40000 [==============================] - 7s - loss: 0.1447 - acc: 0.9616 - val_loss: 1.9453 - val_acc: 0.5501\n",
      "Epoch 79/100\n",
      "40000/40000 [==============================] - 7s - loss: 0.1271 - acc: 0.9677 - val_loss: 1.9983 - val_acc: 0.5459\n",
      "Epoch 80/100\n",
      "40000/40000 [==============================] - 7s - loss: 0.1219 - acc: 0.9701 - val_loss: 2.0106 - val_acc: 0.5524\n",
      "Epoch 81/100\n",
      "40000/40000 [==============================] - 7s - loss: 0.1077 - acc: 0.9761 - val_loss: 2.0426 - val_acc: 0.5439\n",
      "Epoch 82/100\n",
      "40000/40000 [==============================] - 7s - loss: 0.1027 - acc: 0.9772 - val_loss: 2.0117 - val_acc: 0.5535\n",
      "Epoch 83/100\n",
      "40000/40000 [==============================] - 7s - loss: 0.0995 - acc: 0.9773 - val_loss: 2.0058 - val_acc: 0.5546\n",
      "Epoch 84/100\n",
      "40000/40000 [==============================] - 7s - loss: 0.0913 - acc: 0.9800 - val_loss: 2.0838 - val_acc: 0.5484\n",
      "Epoch 85/100\n",
      "40000/40000 [==============================] - 7s - loss: 0.0905 - acc: 0.9804 - val_loss: 2.1261 - val_acc: 0.5417\n",
      "Epoch 86/100\n",
      "40000/40000 [==============================] - 7s - loss: 0.0794 - acc: 0.9831 - val_loss: 2.0579 - val_acc: 0.5565\n",
      "Epoch 87/100\n",
      "40000/40000 [==============================] - 7s - loss: 0.0744 - acc: 0.9853 - val_loss: 2.1070 - val_acc: 0.5471\n",
      "Epoch 88/100\n",
      "40000/40000 [==============================] - 7s - loss: 0.0697 - acc: 0.9866 - val_loss: 2.0870 - val_acc: 0.5530\n",
      "Epoch 89/100\n",
      "40000/40000 [==============================] - 7s - loss: 0.0701 - acc: 0.9859 - val_loss: 2.1102 - val_acc: 0.5557\n",
      "Epoch 90/100\n",
      "40000/40000 [==============================] - 7s - loss: 0.0630 - acc: 0.9878 - val_loss: 2.1384 - val_acc: 0.5546\n",
      "Epoch 91/100\n",
      "40000/40000 [==============================] - 7s - loss: 0.0600 - acc: 0.9889 - val_loss: 2.2116 - val_acc: 0.5433\n",
      "Epoch 92/100\n",
      "40000/40000 [==============================] - 8s - loss: 0.0535 - acc: 0.9908 - val_loss: 2.1770 - val_acc: 0.5459\n",
      "Epoch 93/100\n",
      "40000/40000 [==============================] - 7s - loss: 0.0500 - acc: 0.9920 - val_loss: 2.1738 - val_acc: 0.5562\n",
      "Epoch 94/100\n",
      "40000/40000 [==============================] - 7s - loss: 0.0436 - acc: 0.9940 - val_loss: 2.2049 - val_acc: 0.5495\n",
      "Epoch 95/100\n",
      "40000/40000 [==============================] - 7s - loss: 0.0435 - acc: 0.9938 - val_loss: 2.1728 - val_acc: 0.5591\n",
      "Epoch 96/100\n",
      "40000/40000 [==============================] - 7s - loss: 0.0417 - acc: 0.9941 - val_loss: 2.1823 - val_acc: 0.5594\n",
      "Epoch 97/100\n",
      "40000/40000 [==============================] - 7s - loss: 0.0370 - acc: 0.9955 - val_loss: 2.2446 - val_acc: 0.5504\n",
      "Epoch 98/100\n",
      "40000/40000 [==============================] - 7s - loss: 0.0357 - acc: 0.9949 - val_loss: 2.2754 - val_acc: 0.5575\n",
      "Epoch 99/100\n",
      "40000/40000 [==============================] - 7s - loss: 0.0346 - acc: 0.9950 - val_loss: 2.2601 - val_acc: 0.5481\n",
      "Epoch 100/100\n",
      "40000/40000 [==============================] - 7s - loss: 0.0321 - acc: 0.9961 - val_loss: 2.2643 - val_acc: 0.5536\n"
     ]
    }
   ],
   "source": [
    "H = model.fit(trainX, trainY, validation_data=(testX, testY), epochs=100, batch_size=32)"
   ]
  },
  {
   "cell_type": "code",
   "execution_count": 24,
   "metadata": {},
   "outputs": [
    {
     "name": "stdout",
     "output_type": "stream",
     "text": [
      "_________________________________________________________________\n",
      "Layer (type)                 Output Shape              Param #   \n",
      "=================================================================\n",
      "dense_1 (Dense)              (None, 1024)              3146752   \n",
      "_________________________________________________________________\n",
      "dense_2 (Dense)              (None, 512)               524800    \n",
      "_________________________________________________________________\n",
      "dense_3 (Dense)              (None, 10)                5130      \n",
      "=================================================================\n",
      "Total params: 3,676,682\n",
      "Trainable params: 3,676,682\n",
      "Non-trainable params: 0\n",
      "_________________________________________________________________\n"
     ]
    }
   ],
   "source": [
    "model.summary()"
   ]
  },
  {
   "cell_type": "code",
   "execution_count": 27,
   "metadata": {},
   "outputs": [
    {
     "data": {
      "text/plain": [
       "((8000, 10), (2000, 10))"
      ]
     },
     "execution_count": 27,
     "metadata": {},
     "output_type": "execute_result"
    }
   ],
   "source": [
    "trainY.shape, testY.shape"
   ]
  },
  {
   "cell_type": "code",
   "execution_count": null,
   "metadata": {},
   "outputs": [],
   "source": []
  }
 ],
 "metadata": {
  "kernelspec": {
   "display_name": "Python 3",
   "language": "python",
   "name": "python3"
  },
  "language_info": {
   "codemirror_mode": {
    "name": "ipython",
    "version": 3
   },
   "file_extension": ".py",
   "mimetype": "text/x-python",
   "name": "python",
   "nbconvert_exporter": "python",
   "pygments_lexer": "ipython3",
   "version": "3.6.7"
  }
 },
 "nbformat": 4,
 "nbformat_minor": 2
}
