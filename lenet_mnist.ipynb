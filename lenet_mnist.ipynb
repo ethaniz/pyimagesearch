{
 "cells": [
  {
   "cell_type": "code",
   "execution_count": 1,
   "metadata": {},
   "outputs": [
    {
     "name": "stderr",
     "output_type": "stream",
     "text": [
      "Using TensorFlow backend.\n",
      "/data/tangle/pyimagesearch/venv/lib/python3.6/importlib/_bootstrap.py:219: RuntimeWarning: compiletime version 3.5 of module 'tensorflow.python.framework.fast_tensor_util' does not match runtime version 3.6\n",
      "  return f(*args, **kwds)\n"
     ]
    }
   ],
   "source": [
    "from pyimagesearch.nn.conv import LeNet\n",
    "from keras.optimizers import SGD\n",
    "from sklearn.preprocessing import LabelBinarizer\n",
    "from sklearn.model_selection import train_test_split\n",
    "from sklearn.metrics import classification_report\n",
    "from sklearn import datasets\n",
    "from keras import backend as K\n",
    "import matplotlib.pyplot as plt\n",
    "import numpy as np"
   ]
  },
  {
   "cell_type": "code",
   "execution_count": 3,
   "metadata": {},
   "outputs": [
    {
     "name": "stderr",
     "output_type": "stream",
     "text": [
      "/data/tangle/pyimagesearch/venv/lib/python3.6/site-packages/sklearn/utils/deprecation.py:77: DeprecationWarning: Function fetch_mldata is deprecated; fetch_mldata was deprecated in version 0.20 and will be removed in version 0.22\n",
      "  warnings.warn(msg, category=DeprecationWarning)\n",
      "/data/tangle/pyimagesearch/venv/lib/python3.6/site-packages/sklearn/utils/deprecation.py:77: DeprecationWarning: Function mldata_filename is deprecated; mldata_filename was deprecated in version 0.20 and will be removed in version 0.22\n",
      "  warnings.warn(msg, category=DeprecationWarning)\n"
     ]
    }
   ],
   "source": [
    "dataset = datasets.fetch_mldata(\"MNIST Original\")"
   ]
  },
  {
   "cell_type": "code",
   "execution_count": 4,
   "metadata": {},
   "outputs": [],
   "source": [
    "data = dataset.data"
   ]
  },
  {
   "cell_type": "code",
   "execution_count": 5,
   "metadata": {},
   "outputs": [
    {
     "data": {
      "text/plain": [
       "(70000, 784)"
      ]
     },
     "execution_count": 5,
     "metadata": {},
     "output_type": "execute_result"
    }
   ],
   "source": [
    "data.shape"
   ]
  },
  {
   "cell_type": "code",
   "execution_count": 6,
   "metadata": {},
   "outputs": [],
   "source": [
    "if K.image_data_format() == \"channel_first\":\n",
    "    data = data.reshape(data.shape[0], 1, 28, 28)\n",
    "else:\n",
    "    data = data.reshape(data.shape[0], 28, 28, 1)"
   ]
  },
  {
   "cell_type": "code",
   "execution_count": 7,
   "metadata": {},
   "outputs": [
    {
     "data": {
      "text/plain": [
       "(70000, 28, 28, 1)"
      ]
     },
     "execution_count": 7,
     "metadata": {},
     "output_type": "execute_result"
    }
   ],
   "source": [
    "data.shape"
   ]
  },
  {
   "cell_type": "code",
   "execution_count": 8,
   "metadata": {},
   "outputs": [],
   "source": [
    "(trainX, testX, trainY, testY) = train_test_split(data / 255.0,\n",
    "                                                 dataset.target.astype(\"int\"), test_size=0.25, random_state=42)"
   ]
  },
  {
   "cell_type": "code",
   "execution_count": 10,
   "metadata": {},
   "outputs": [
    {
     "data": {
      "text/plain": [
       "((52500, 28, 28, 1), (52500,))"
      ]
     },
     "execution_count": 10,
     "metadata": {},
     "output_type": "execute_result"
    }
   ],
   "source": [
    "trainX.shape, trainY.shape"
   ]
  },
  {
   "cell_type": "code",
   "execution_count": 11,
   "metadata": {},
   "outputs": [],
   "source": [
    "le = LabelBinarizer()\n",
    "trainY = le.fit_transform(trainY)\n",
    "testY = le.transform(testY)"
   ]
  },
  {
   "cell_type": "code",
   "execution_count": 14,
   "metadata": {},
   "outputs": [],
   "source": [
    "opt = SGD(lr=0.01)\n",
    "model = LeNet.build(width=28, height=28, depth=1, classes=10)\n",
    "model.compile(loss=\"categorical_crossentropy\", optimizer=opt,\n",
    "             metrics=[\"accuracy\"])"
   ]
  },
  {
   "cell_type": "code",
   "execution_count": 15,
   "metadata": {},
   "outputs": [
    {
     "name": "stdout",
     "output_type": "stream",
     "text": [
      "Train on 52500 samples, validate on 17500 samples\n",
      "Epoch 1/20\n",
      "52500/52500 [==============================] - 12s - loss: 0.9982 - acc: 0.7405 - val_loss: 0.6864 - val_acc: 0.7708\n",
      "Epoch 2/20\n",
      "52500/52500 [==============================] - 4s - loss: 0.2815 - acc: 0.9167 - val_loss: 0.3449 - val_acc: 0.8870\n",
      "Epoch 3/20\n",
      "52500/52500 [==============================] - 4s - loss: 0.2032 - acc: 0.9397 - val_loss: 0.2116 - val_acc: 0.9337\n",
      "Epoch 4/20\n",
      "52500/52500 [==============================] - 4s - loss: 0.1596 - acc: 0.9525 - val_loss: 0.3244 - val_acc: 0.8977\n",
      "Epoch 5/20\n",
      "52500/52500 [==============================] - 4s - loss: 0.1327 - acc: 0.9607 - val_loss: 0.6844 - val_acc: 0.8056\n",
      "Epoch 6/20\n",
      "52500/52500 [==============================] - 4s - loss: 0.1140 - acc: 0.9662 - val_loss: 0.1127 - val_acc: 0.9646\n",
      "Epoch 7/20\n",
      "52500/52500 [==============================] - 4s - loss: 0.0986 - acc: 0.9698 - val_loss: 0.0981 - val_acc: 0.9705\n",
      "Epoch 8/20\n",
      "52500/52500 [==============================] - 3s - loss: 0.0882 - acc: 0.9731 - val_loss: 0.0866 - val_acc: 0.9739\n",
      "Epoch 9/20\n",
      "52500/52500 [==============================] - 4s - loss: 0.0789 - acc: 0.9759 - val_loss: 0.1246 - val_acc: 0.9612\n",
      "Epoch 10/20\n",
      "52500/52500 [==============================] - 4s - loss: 0.0726 - acc: 0.9779 - val_loss: 0.1400 - val_acc: 0.9534\n",
      "Epoch 11/20\n",
      "52500/52500 [==============================] - 4s - loss: 0.0671 - acc: 0.9792 - val_loss: 0.2958 - val_acc: 0.9011\n",
      "Epoch 12/20\n",
      "52500/52500 [==============================] - 3s - loss: 0.0633 - acc: 0.9808 - val_loss: 0.1579 - val_acc: 0.9509\n",
      "Epoch 13/20\n",
      "52500/52500 [==============================] - 4s - loss: 0.0585 - acc: 0.9817 - val_loss: 0.0674 - val_acc: 0.9810\n",
      "Epoch 14/20\n",
      "52500/52500 [==============================] - 4s - loss: 0.0545 - acc: 0.9835 - val_loss: 0.0697 - val_acc: 0.9783\n",
      "Epoch 15/20\n",
      "52500/52500 [==============================] - 4s - loss: 0.0517 - acc: 0.9841 - val_loss: 0.0773 - val_acc: 0.9754\n",
      "Epoch 16/20\n",
      "52500/52500 [==============================] - 3s - loss: 0.0491 - acc: 0.9845 - val_loss: 0.1833 - val_acc: 0.9388\n",
      "Epoch 17/20\n",
      "52500/52500 [==============================] - 4s - loss: 0.0474 - acc: 0.9851 - val_loss: 0.0563 - val_acc: 0.9827\n",
      "Epoch 18/20\n",
      "52500/52500 [==============================] - 4s - loss: 0.0445 - acc: 0.9861 - val_loss: 0.0584 - val_acc: 0.9826\n",
      "Epoch 19/20\n",
      "52500/52500 [==============================] - 4s - loss: 0.0423 - acc: 0.9867 - val_loss: 0.0626 - val_acc: 0.9802\n",
      "Epoch 20/20\n",
      "52500/52500 [==============================] - 4s - loss: 0.0404 - acc: 0.9875 - val_loss: 0.0612 - val_acc: 0.9806\n"
     ]
    }
   ],
   "source": [
    "H = model.fit(trainX, trainY, validation_data=(testX, testY),\n",
    "             batch_size=128, epochs=20, verbose=1)"
   ]
  },
  {
   "cell_type": "code",
   "execution_count": 16,
   "metadata": {},
   "outputs": [
    {
     "name": "stdout",
     "output_type": "stream",
     "text": [
      "              precision    recall  f1-score   support\n",
      "\n",
      "           0       0.99      0.99      0.99      1677\n",
      "           1       0.99      0.99      0.99      1935\n",
      "           2       0.98      0.99      0.98      1767\n",
      "           3       0.95      0.99      0.97      1766\n",
      "           4       0.99      0.99      0.99      1691\n",
      "           5       0.99      0.97      0.98      1653\n",
      "           6       0.99      0.99      0.99      1754\n",
      "           7       0.98      0.99      0.98      1846\n",
      "           8       0.99      0.93      0.96      1702\n",
      "           9       0.97      0.97      0.97      1709\n",
      "\n",
      "   micro avg       0.98      0.98      0.98     17500\n",
      "   macro avg       0.98      0.98      0.98     17500\n",
      "weighted avg       0.98      0.98      0.98     17500\n",
      "\n"
     ]
    }
   ],
   "source": [
    "predictions = model.predict(testX, batch_size=128)\n",
    "print(classification_report(testY.argmax(axis=1),\n",
    "                           predictions.argmax(axis=1),\n",
    "                           target_names=[str(x) for x in le.classes_]))"
   ]
  },
  {
   "cell_type": "code",
   "execution_count": null,
   "metadata": {},
   "outputs": [],
   "source": []
  }
 ],
 "metadata": {
  "kernelspec": {
   "display_name": "Python 3",
   "language": "python",
   "name": "python3"
  },
  "language_info": {
   "codemirror_mode": {
    "name": "ipython",
    "version": 3
   },
   "file_extension": ".py",
   "mimetype": "text/x-python",
   "name": "python",
   "nbconvert_exporter": "python",
   "pygments_lexer": "ipython3",
   "version": "3.6.7"
  }
 },
 "nbformat": 4,
 "nbformat_minor": 2
}
