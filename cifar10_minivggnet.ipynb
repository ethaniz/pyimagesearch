{
 "cells": [
  {
   "cell_type": "code",
   "execution_count": 1,
   "metadata": {},
   "outputs": [
    {
     "name": "stderr",
     "output_type": "stream",
     "text": [
      "Using TensorFlow backend.\n",
      "/data/tangle/pyimagesearch/venv/lib/python3.6/importlib/_bootstrap.py:219: RuntimeWarning: compiletime version 3.5 of module 'tensorflow.python.framework.fast_tensor_util' does not match runtime version 3.6\n",
      "  return f(*args, **kwds)\n"
     ]
    }
   ],
   "source": [
    "%matplotlib inline\n",
    "import matplotlib\n",
    "matplotlib.use(\"Agg\")\n",
    "\n",
    "from sklearn.preprocessing import LabelBinarizer\n",
    "from sklearn.metrics import classification_report\n",
    "from pyimagesearch.nn.conv import MiniVGGNet\n",
    "from keras.optimizers import SGD\n",
    "from keras.datasets import cifar10\n",
    "import matplotlib.pyplot as plt\n",
    "import numpy as np\n",
    "from pyimagesearch.callbacks import TrainingMonitor"
   ]
  },
  {
   "cell_type": "code",
   "execution_count": 2,
   "metadata": {},
   "outputs": [],
   "source": [
    "import pickle\n",
    "import numpy\n",
    "# load data\n",
    "with open('/home/tangle/.keras/datasets/cifar-10-batches-py/data_batch_1','rb') as f:\n",
    "    dict1 = pickle.load(f,encoding='bytes')\n",
    "\n",
    "with open('/home/tangle/.keras/datasets/cifar-10-batches-py/data_batch_2','rb') as f:\n",
    "    dict2 = pickle.load(f,encoding='bytes')\n",
    "\n",
    "with open('/home/tangle/.keras/datasets/cifar-10-batches-py/data_batch_3','rb') as f:\n",
    "    dict3 = pickle.load(f,encoding='bytes')\n",
    "\n",
    "with open('/home/tangle/.keras/datasets/cifar-10-batches-py/data_batch_4','rb') as f:\n",
    "    dict4 = pickle.load(f,encoding='bytes')\n",
    "\n",
    "with open('/home/tangle/.keras/datasets/cifar-10-batches-py/data_batch_5','rb') as f:\n",
    "    dict5 = pickle.load(f,encoding='bytes')\n",
    "\n",
    "with open('/home/tangle/.keras/datasets/cifar-10-batches-py/test_batch','rb') as f:\n",
    "    dict6 = pickle.load(f,encoding='bytes')\n",
    "    \n",
    "x1 = dict1[b'data']\n",
    "x2 = dict2[b'data']\n",
    "x3 = dict3[b'data']\n",
    "x4 = dict4[b'data']\n",
    "x5 = dict5[b'data']\n",
    "x6 = dict6[b'data']\n",
    "#x = x1.append(x2).append(x3).append(x4).append(x5)\n",
    "x = np.concatenate([x1, x2, x3, x4, x5])\n",
    "trainX = x.reshape(len(x), 32, 32, 3).astype('float32')\n",
    "testX = x6.reshape(len(x6), 32, 32, 3).astype('float32')\n",
    "\n",
    "\n",
    "y1 = numpy.asarray(dict1[b'labels'])\n",
    "y2 = numpy.asarray(dict2[b'labels'])\n",
    "y3 = numpy.asarray(dict3[b'labels'])\n",
    "y4 = numpy.asarray(dict4[b'labels'])\n",
    "y5 = numpy.asarray(dict5[b'labels'])\n",
    "y6 = numpy.asarray(dict6[b'labels'])\n",
    "trainY = np.concatenate([y1, y2, y3, y4, y5])\n",
    "testY = y6\n",
    "#y = y1.append(y2).append(y3).append(y4).append(y5)"
   ]
  },
  {
   "cell_type": "code",
   "execution_count": 3,
   "metadata": {},
   "outputs": [
    {
     "data": {
      "text/plain": [
       "(10000, 32, 32, 3)"
      ]
     },
     "execution_count": 3,
     "metadata": {},
     "output_type": "execute_result"
    }
   ],
   "source": [
    "testX.shape"
   ]
  },
  {
   "cell_type": "code",
   "execution_count": 4,
   "metadata": {},
   "outputs": [],
   "source": [
    "trainX = trainX.astype(\"float\") / 255.0\n",
    "testX = testX.astype(\"float\") / 255.0\n",
    "\n",
    "lb = LabelBinarizer()\n",
    "trainY = lb.fit_transform(trainY)\n",
    "testY = lb.transform(testY)\n",
    "labelNames = [\"airplane\", \"automobile\", \"bird\", \"cat\", \"deer\", \"dog\", \"frog\", \"horse\", \"ship\", \"truck\"]"
   ]
  },
  {
   "cell_type": "code",
   "execution_count": 6,
   "metadata": {},
   "outputs": [],
   "source": [
    "opt = SGD(lr=0.01, momentum=0.9, nesterov=True)\n",
    "model = MiniVGGNet.build(width=32, height=32, depth=3, classes=10)\n",
    "model.compile(loss=\"categorical_crossentropy\", optimizer=opt, metrics=[\"accuracy\"])"
   ]
  },
  {
   "cell_type": "code",
   "execution_count": 7,
   "metadata": {},
   "outputs": [],
   "source": [
    "import os\n",
    "figPath = os.path.sep.join([\"/data/tangle/pyimagesearch\", \"{}.png\".format(os.getpid())])\n",
    "jsonPath = os.path.sep.join([\"/data/tangle/pyimagesearch\", \"{}.json\".format(os.getpid())])\n",
    "callbacks = [TrainingMonitor(figPath, jsonPath)]"
   ]
  },
  {
   "cell_type": "code",
   "execution_count": 8,
   "metadata": {},
   "outputs": [
    {
     "name": "stdout",
     "output_type": "stream",
     "text": [
      "Train on 50000 samples, validate on 10000 samples\n",
      "Epoch 1/100\n",
      "49984/50000 [============================>.] - ETA: 0s - loss: 1.7849 - acc: 0.4008=============on_epoch_end=============\n",
      "50000/50000 [==============================] - 53s - loss: 1.7848 - acc: 0.4008 - val_loss: 1.4578 - val_acc: 0.5060\n",
      "Epoch 2/100\n",
      "49856/50000 [============================>.] - ETA: 0s - loss: 1.4067 - acc: 0.5113=============on_epoch_end=============\n",
      "50000/50000 [==============================] - 17s - loss: 1.4059 - acc: 0.5116 - val_loss: 1.2737 - val_acc: 0.5565\n",
      "Epoch 3/100\n",
      "49856/50000 [============================>.] - ETA: 0s - loss: 1.2398 - acc: 0.5683=============on_epoch_end=============\n",
      "50000/50000 [==============================] - 17s - loss: 1.2393 - acc: 0.5685 - val_loss: 1.1066 - val_acc: 0.6094\n",
      "Epoch 4/100\n",
      "49984/50000 [============================>.] - ETA: 0s - loss: 1.1394 - acc: 0.6023=============on_epoch_end=============\n",
      "50000/50000 [==============================] - 17s - loss: 1.1393 - acc: 0.6023 - val_loss: 1.0746 - val_acc: 0.6286\n",
      "Epoch 5/100\n",
      "49856/50000 [============================>.] - ETA: 0s - loss: 1.0599 - acc: 0.6279=============on_epoch_end=============\n",
      "50000/50000 [==============================] - 17s - loss: 1.0598 - acc: 0.6279 - val_loss: 1.0043 - val_acc: 0.6524\n",
      "Epoch 6/100\n",
      "49856/50000 [============================>.] - ETA: 0s - loss: 0.9967 - acc: 0.6531=============on_epoch_end=============\n",
      "50000/50000 [==============================] - 17s - loss: 0.9973 - acc: 0.6528 - val_loss: 0.9815 - val_acc: 0.6603\n",
      "Epoch 7/100\n",
      "49920/50000 [============================>.] - ETA: 0s - loss: 0.9515 - acc: 0.6663=============on_epoch_end=============\n",
      "50000/50000 [==============================] - 17s - loss: 0.9515 - acc: 0.6663 - val_loss: 0.8925 - val_acc: 0.6890\n",
      "Epoch 8/100\n",
      "49984/50000 [============================>.] - ETA: 0s - loss: 0.9044 - acc: 0.6814=============on_epoch_end=============\n",
      "50000/50000 [==============================] - 17s - loss: 0.9044 - acc: 0.6814 - val_loss: 1.0473 - val_acc: 0.6491\n",
      "Epoch 9/100\n",
      "49920/50000 [============================>.] - ETA: 0s - loss: 0.8642 - acc: 0.6967=============on_epoch_end=============\n",
      "50000/50000 [==============================] - 17s - loss: 0.8643 - acc: 0.6966 - val_loss: 0.8939 - val_acc: 0.6955\n",
      "Epoch 10/100\n",
      "49856/50000 [============================>.] - ETA: 0s - loss: 0.8339 - acc: 0.7085=============on_epoch_end=============\n",
      "50000/50000 [==============================] - 17s - loss: 0.8342 - acc: 0.7085 - val_loss: 0.8598 - val_acc: 0.7027\n",
      "Epoch 11/100\n",
      "49920/50000 [============================>.] - ETA: 0s - loss: 0.7948 - acc: 0.7219=============on_epoch_end=============\n",
      "50000/50000 [==============================] - 17s - loss: 0.7948 - acc: 0.7218 - val_loss: 0.8883 - val_acc: 0.7024\n",
      "Epoch 12/100\n",
      "49856/50000 [============================>.] - ETA: 0s - loss: 0.7622 - acc: 0.7321=============on_epoch_end=============\n",
      "50000/50000 [==============================] - 17s - loss: 0.7623 - acc: 0.7321 - val_loss: 0.8542 - val_acc: 0.7101\n",
      "Epoch 13/100\n",
      "49984/50000 [============================>.] - ETA: 0s - loss: 0.7378 - acc: 0.7409=============on_epoch_end=============\n",
      "50000/50000 [==============================] - 16s - loss: 0.7377 - acc: 0.7409 - val_loss: 0.8814 - val_acc: 0.7092\n",
      "Epoch 14/100\n",
      "49920/50000 [============================>.] - ETA: 0s - loss: 0.7101 - acc: 0.7521=============on_epoch_end=============\n",
      "50000/50000 [==============================] - 16s - loss: 0.7100 - acc: 0.7521 - val_loss: 0.8267 - val_acc: 0.7226\n",
      "Epoch 15/100\n",
      "49984/50000 [============================>.] - ETA: 0s - loss: 0.6955 - acc: 0.7542=============on_epoch_end=============\n",
      "50000/50000 [==============================] - 16s - loss: 0.6954 - acc: 0.7542 - val_loss: 0.8283 - val_acc: 0.7167\n",
      "Epoch 16/100\n",
      "49920/50000 [============================>.] - ETA: 0s - loss: 0.6724 - acc: 0.7626=============on_epoch_end=============\n",
      "50000/50000 [==============================] - 16s - loss: 0.6723 - acc: 0.7626 - val_loss: 0.8344 - val_acc: 0.7213\n",
      "Epoch 17/100\n",
      "49920/50000 [============================>.] - ETA: 0s - loss: 0.6500 - acc: 0.7696=============on_epoch_end=============\n",
      "50000/50000 [==============================] - 16s - loss: 0.6498 - acc: 0.7697 - val_loss: 0.8369 - val_acc: 0.7284\n",
      "Epoch 18/100\n",
      "49920/50000 [============================>.] - ETA: 0s - loss: 0.6227 - acc: 0.7788=============on_epoch_end=============\n",
      "50000/50000 [==============================] - 17s - loss: 0.6231 - acc: 0.7787 - val_loss: 0.8614 - val_acc: 0.7167\n",
      "Epoch 19/100\n",
      "49984/50000 [============================>.] - ETA: 0s - loss: 0.6132 - acc: 0.7831=============on_epoch_end=============\n",
      "50000/50000 [==============================] - 17s - loss: 0.6133 - acc: 0.7831 - val_loss: 0.8915 - val_acc: 0.7135\n",
      "Epoch 20/100\n",
      "49984/50000 [============================>.] - ETA: 0s - loss: 0.5871 - acc: 0.7918=============on_epoch_end=============\n",
      "50000/50000 [==============================] - 16s - loss: 0.5870 - acc: 0.7918 - val_loss: 0.8372 - val_acc: 0.7243\n",
      "Epoch 21/100\n",
      "49856/50000 [============================>.] - ETA: 0s - loss: 0.5734 - acc: 0.7963=============on_epoch_end=============\n",
      "50000/50000 [==============================] - 16s - loss: 0.5736 - acc: 0.7961 - val_loss: 0.8926 - val_acc: 0.7153\n",
      "Epoch 22/100\n",
      "49984/50000 [============================>.] - ETA: 0s - loss: 0.5614 - acc: 0.7994=============on_epoch_end=============\n",
      "50000/50000 [==============================] - 16s - loss: 0.5615 - acc: 0.7994 - val_loss: 0.8399 - val_acc: 0.7276\n",
      "Epoch 23/100\n",
      "49856/50000 [============================>.] - ETA: 0s - loss: 0.5361 - acc: 0.8106=============on_epoch_end=============\n",
      "50000/50000 [==============================] - 15s - loss: 0.5361 - acc: 0.8107 - val_loss: 0.8669 - val_acc: 0.7257\n",
      "Epoch 24/100\n",
      "49920/50000 [============================>.] - ETA: 0s - loss: 0.5248 - acc: 0.8119=============on_epoch_end=============\n",
      "50000/50000 [==============================] - 15s - loss: 0.5249 - acc: 0.8119 - val_loss: 0.9218 - val_acc: 0.7133\n",
      "Epoch 25/100\n",
      "49920/50000 [============================>.] - ETA: 0s - loss: 0.5177 - acc: 0.8148=============on_epoch_end=============\n",
      "50000/50000 [==============================] - 15s - loss: 0.5178 - acc: 0.8149 - val_loss: 0.8280 - val_acc: 0.7318\n",
      "Epoch 26/100\n",
      "49856/50000 [============================>.] - ETA: 0s - loss: 0.4891 - acc: 0.8263=============on_epoch_end=============\n",
      "50000/50000 [==============================] - 15s - loss: 0.4893 - acc: 0.8264 - val_loss: 0.9265 - val_acc: 0.7132\n",
      "Epoch 27/100\n",
      "49856/50000 [============================>.] - ETA: 0s - loss: 0.5010 - acc: 0.8214=============on_epoch_end=============\n",
      "50000/50000 [==============================] - 15s - loss: 0.5010 - acc: 0.8214 - val_loss: 0.8454 - val_acc: 0.7307\n",
      "Epoch 28/100\n",
      "49856/50000 [============================>.] - ETA: 0s - loss: 0.4775 - acc: 0.8290=============on_epoch_end=============\n",
      "50000/50000 [==============================] - 16s - loss: 0.4776 - acc: 0.8288 - val_loss: 0.8881 - val_acc: 0.7282\n",
      "Epoch 29/100\n",
      "49856/50000 [============================>.] - ETA: 0s - loss: 0.4651 - acc: 0.8345=============on_epoch_end=============\n",
      "50000/50000 [==============================] - 15s - loss: 0.4653 - acc: 0.8345 - val_loss: 0.8601 - val_acc: 0.7386\n",
      "Epoch 30/100\n",
      "49920/50000 [============================>.] - ETA: 0s - loss: 0.4443 - acc: 0.8410=============on_epoch_end=============\n",
      "50000/50000 [==============================] - 16s - loss: 0.4441 - acc: 0.8411 - val_loss: 0.8798 - val_acc: 0.7340\n",
      "Epoch 31/100\n",
      "49856/50000 [============================>.] - ETA: 0s - loss: 0.4430 - acc: 0.8416=============on_epoch_end=============\n",
      "50000/50000 [==============================] - 16s - loss: 0.4433 - acc: 0.8416 - val_loss: 0.9186 - val_acc: 0.7262\n",
      "Epoch 32/100\n",
      "49856/50000 [============================>.] - ETA: 0s - loss: 0.4257 - acc: 0.8493=============on_epoch_end=============\n",
      "50000/50000 [==============================] - 15s - loss: 0.4259 - acc: 0.8492 - val_loss: 0.8840 - val_acc: 0.7280\n",
      "Epoch 33/100\n"
     ]
    },
    {
     "name": "stdout",
     "output_type": "stream",
     "text": [
      "49856/50000 [============================>.] - ETA: 0s - loss: 0.4154 - acc: 0.8518=============on_epoch_end=============\n",
      "50000/50000 [==============================] - 15s - loss: 0.4155 - acc: 0.8518 - val_loss: 0.8732 - val_acc: 0.7296\n",
      "Epoch 34/100\n",
      "49920/50000 [============================>.] - ETA: 0s - loss: 0.4110 - acc: 0.8523=============on_epoch_end=============\n",
      "50000/50000 [==============================] - 16s - loss: 0.4111 - acc: 0.8523 - val_loss: 0.9162 - val_acc: 0.7272\n",
      "Epoch 35/100\n",
      "49984/50000 [============================>.] - ETA: 0s - loss: 0.3984 - acc: 0.8578=============on_epoch_end=============\n",
      "50000/50000 [==============================] - 15s - loss: 0.3984 - acc: 0.8578 - val_loss: 0.8844 - val_acc: 0.7376\n",
      "Epoch 36/100\n",
      "49920/50000 [============================>.] - ETA: 0s - loss: 0.3927 - acc: 0.8596=============on_epoch_end=============\n",
      "50000/50000 [==============================] - 15s - loss: 0.3928 - acc: 0.8596 - val_loss: 0.9194 - val_acc: 0.7347\n",
      "Epoch 37/100\n",
      "49856/50000 [============================>.] - ETA: 0s - loss: 0.3888 - acc: 0.8622=============on_epoch_end=============\n",
      "50000/50000 [==============================] - 15s - loss: 0.3887 - acc: 0.8622 - val_loss: 0.9149 - val_acc: 0.7327\n",
      "Epoch 38/100\n",
      "49920/50000 [============================>.] - ETA: 0s - loss: 0.3720 - acc: 0.8656=============on_epoch_end=============\n",
      "50000/50000 [==============================] - 15s - loss: 0.3719 - acc: 0.8657 - val_loss: 0.9278 - val_acc: 0.7291\n",
      "Epoch 39/100\n",
      "49920/50000 [============================>.] - ETA: 0s - loss: 0.3698 - acc: 0.8677=============on_epoch_end=============\n",
      "50000/50000 [==============================] - 15s - loss: 0.3698 - acc: 0.8678 - val_loss: 0.8911 - val_acc: 0.7397\n",
      "Epoch 40/100\n",
      "49920/50000 [============================>.] - ETA: 0s - loss: 0.3622 - acc: 0.8709=============on_epoch_end=============\n",
      "50000/50000 [==============================] - 16s - loss: 0.3623 - acc: 0.8709 - val_loss: 0.9228 - val_acc: 0.7358\n",
      "Epoch 41/100\n",
      "49920/50000 [============================>.] - ETA: 0s - loss: 0.3535 - acc: 0.8724=============on_epoch_end=============\n",
      "50000/50000 [==============================] - 15s - loss: 0.3535 - acc: 0.8725 - val_loss: 0.8790 - val_acc: 0.7450\n",
      "Epoch 42/100\n",
      "49920/50000 [============================>.] - ETA: 0s - loss: 0.3423 - acc: 0.8771=============on_epoch_end=============\n",
      "50000/50000 [==============================] - 15s - loss: 0.3424 - acc: 0.8771 - val_loss: 0.8938 - val_acc: 0.7371\n",
      "Epoch 43/100\n",
      "49984/50000 [============================>.] - ETA: 0s - loss: 0.3387 - acc: 0.8765=============on_epoch_end=============\n",
      "50000/50000 [==============================] - 15s - loss: 0.3387 - acc: 0.8765 - val_loss: 0.9343 - val_acc: 0.7373\n",
      "Epoch 44/100\n",
      "49984/50000 [============================>.] - ETA: 0s - loss: 0.3303 - acc: 0.8836=============on_epoch_end=============\n",
      "50000/50000 [==============================] - 15s - loss: 0.3303 - acc: 0.8836 - val_loss: 0.9118 - val_acc: 0.7341\n",
      "Epoch 45/100\n",
      "49856/50000 [============================>.] - ETA: 0s - loss: 0.3304 - acc: 0.8824=============on_epoch_end=============\n",
      "50000/50000 [==============================] - 15s - loss: 0.3304 - acc: 0.8825 - val_loss: 0.9377 - val_acc: 0.7354\n",
      "Epoch 46/100\n",
      "49856/50000 [============================>.] - ETA: 0s - loss: 0.3181 - acc: 0.8869=============on_epoch_end=============\n",
      "50000/50000 [==============================] - 15s - loss: 0.3181 - acc: 0.8868 - val_loss: 1.1226 - val_acc: 0.7138\n",
      "Epoch 47/100\n",
      "49856/50000 [============================>.] - ETA: 0s - loss: 0.3163 - acc: 0.8871=============on_epoch_end=============\n",
      "50000/50000 [==============================] - 15s - loss: 0.3164 - acc: 0.8871 - val_loss: 0.9218 - val_acc: 0.7389\n",
      "Epoch 48/100\n",
      "29888/50000 [================>.............] - ETA: 5s - loss: 0.3123 - acc: 0.8886"
     ]
    },
    {
     "ename": "KeyboardInterrupt",
     "evalue": "",
     "output_type": "error",
     "traceback": [
      "\u001b[0;31m---------------------------------------------------------------------------\u001b[0m",
      "\u001b[0;31mKeyboardInterrupt\u001b[0m                         Traceback (most recent call last)",
      "\u001b[0;32m<ipython-input-8-350d8228ce82>\u001b[0m in \u001b[0;36m<module>\u001b[0;34m\u001b[0m\n\u001b[1;32m      1\u001b[0m H = model.fit(trainX, trainY, validation_data=(testX, testY),\n\u001b[0;32m----> 2\u001b[0;31m              batch_size=64, epochs=100, callbacks=callbacks, verbose=1)\n\u001b[0m",
      "\u001b[0;32m/data/tangle/pyimagesearch/venv/lib/python3.6/site-packages/keras/models.py\u001b[0m in \u001b[0;36mfit\u001b[0;34m(self, x, y, batch_size, epochs, verbose, callbacks, validation_split, validation_data, shuffle, class_weight, sample_weight, initial_epoch, **kwargs)\u001b[0m\n\u001b[1;32m    865\u001b[0m                               \u001b[0mclass_weight\u001b[0m\u001b[0;34m=\u001b[0m\u001b[0mclass_weight\u001b[0m\u001b[0;34m,\u001b[0m\u001b[0;34m\u001b[0m\u001b[0;34m\u001b[0m\u001b[0m\n\u001b[1;32m    866\u001b[0m                               \u001b[0msample_weight\u001b[0m\u001b[0;34m=\u001b[0m\u001b[0msample_weight\u001b[0m\u001b[0;34m,\u001b[0m\u001b[0;34m\u001b[0m\u001b[0;34m\u001b[0m\u001b[0m\n\u001b[0;32m--> 867\u001b[0;31m                               initial_epoch=initial_epoch)\n\u001b[0m\u001b[1;32m    868\u001b[0m \u001b[0;34m\u001b[0m\u001b[0m\n\u001b[1;32m    869\u001b[0m     def evaluate(self, x, y, batch_size=32, verbose=1,\n",
      "\u001b[0;32m/data/tangle/pyimagesearch/venv/lib/python3.6/site-packages/keras/engine/training.py\u001b[0m in \u001b[0;36mfit\u001b[0;34m(self, x, y, batch_size, epochs, verbose, callbacks, validation_split, validation_data, shuffle, class_weight, sample_weight, initial_epoch, steps_per_epoch, validation_steps, **kwargs)\u001b[0m\n\u001b[1;32m   1596\u001b[0m                               \u001b[0minitial_epoch\u001b[0m\u001b[0;34m=\u001b[0m\u001b[0minitial_epoch\u001b[0m\u001b[0;34m,\u001b[0m\u001b[0;34m\u001b[0m\u001b[0;34m\u001b[0m\u001b[0m\n\u001b[1;32m   1597\u001b[0m                               \u001b[0msteps_per_epoch\u001b[0m\u001b[0;34m=\u001b[0m\u001b[0msteps_per_epoch\u001b[0m\u001b[0;34m,\u001b[0m\u001b[0;34m\u001b[0m\u001b[0;34m\u001b[0m\u001b[0m\n\u001b[0;32m-> 1598\u001b[0;31m                               validation_steps=validation_steps)\n\u001b[0m\u001b[1;32m   1599\u001b[0m \u001b[0;34m\u001b[0m\u001b[0m\n\u001b[1;32m   1600\u001b[0m     def evaluate(self, x, y,\n",
      "\u001b[0;32m/data/tangle/pyimagesearch/venv/lib/python3.6/site-packages/keras/engine/training.py\u001b[0m in \u001b[0;36m_fit_loop\u001b[0;34m(self, f, ins, out_labels, batch_size, epochs, verbose, callbacks, val_f, val_ins, shuffle, callback_metrics, initial_epoch, steps_per_epoch, validation_steps)\u001b[0m\n\u001b[1;32m   1181\u001b[0m                     \u001b[0mbatch_logs\u001b[0m\u001b[0;34m[\u001b[0m\u001b[0;34m'size'\u001b[0m\u001b[0;34m]\u001b[0m \u001b[0;34m=\u001b[0m \u001b[0mlen\u001b[0m\u001b[0;34m(\u001b[0m\u001b[0mbatch_ids\u001b[0m\u001b[0;34m)\u001b[0m\u001b[0;34m\u001b[0m\u001b[0;34m\u001b[0m\u001b[0m\n\u001b[1;32m   1182\u001b[0m                     \u001b[0mcallbacks\u001b[0m\u001b[0;34m.\u001b[0m\u001b[0mon_batch_begin\u001b[0m\u001b[0;34m(\u001b[0m\u001b[0mbatch_index\u001b[0m\u001b[0;34m,\u001b[0m \u001b[0mbatch_logs\u001b[0m\u001b[0;34m)\u001b[0m\u001b[0;34m\u001b[0m\u001b[0;34m\u001b[0m\u001b[0m\n\u001b[0;32m-> 1183\u001b[0;31m                     \u001b[0mouts\u001b[0m \u001b[0;34m=\u001b[0m \u001b[0mf\u001b[0m\u001b[0;34m(\u001b[0m\u001b[0mins_batch\u001b[0m\u001b[0;34m)\u001b[0m\u001b[0;34m\u001b[0m\u001b[0;34m\u001b[0m\u001b[0m\n\u001b[0m\u001b[1;32m   1184\u001b[0m                     \u001b[0;32mif\u001b[0m \u001b[0;32mnot\u001b[0m \u001b[0misinstance\u001b[0m\u001b[0;34m(\u001b[0m\u001b[0mouts\u001b[0m\u001b[0;34m,\u001b[0m \u001b[0mlist\u001b[0m\u001b[0;34m)\u001b[0m\u001b[0;34m:\u001b[0m\u001b[0;34m\u001b[0m\u001b[0;34m\u001b[0m\u001b[0m\n\u001b[1;32m   1185\u001b[0m                         \u001b[0mouts\u001b[0m \u001b[0;34m=\u001b[0m \u001b[0;34m[\u001b[0m\u001b[0mouts\u001b[0m\u001b[0;34m]\u001b[0m\u001b[0;34m\u001b[0m\u001b[0;34m\u001b[0m\u001b[0m\n",
      "\u001b[0;32m/data/tangle/pyimagesearch/venv/lib/python3.6/site-packages/keras/backend/tensorflow_backend.py\u001b[0m in \u001b[0;36m__call__\u001b[0;34m(self, inputs)\u001b[0m\n\u001b[1;32m   2271\u001b[0m         updated = session.run(self.outputs + [self.updates_op],\n\u001b[1;32m   2272\u001b[0m                               \u001b[0mfeed_dict\u001b[0m\u001b[0;34m=\u001b[0m\u001b[0mfeed_dict\u001b[0m\u001b[0;34m,\u001b[0m\u001b[0;34m\u001b[0m\u001b[0;34m\u001b[0m\u001b[0m\n\u001b[0;32m-> 2273\u001b[0;31m                               **self.session_kwargs)\n\u001b[0m\u001b[1;32m   2274\u001b[0m         \u001b[0;32mreturn\u001b[0m \u001b[0mupdated\u001b[0m\u001b[0;34m[\u001b[0m\u001b[0;34m:\u001b[0m\u001b[0mlen\u001b[0m\u001b[0;34m(\u001b[0m\u001b[0mself\u001b[0m\u001b[0;34m.\u001b[0m\u001b[0moutputs\u001b[0m\u001b[0;34m)\u001b[0m\u001b[0;34m]\u001b[0m\u001b[0;34m\u001b[0m\u001b[0;34m\u001b[0m\u001b[0m\n\u001b[1;32m   2275\u001b[0m \u001b[0;34m\u001b[0m\u001b[0m\n",
      "\u001b[0;32m/data/tangle/pyimagesearch/venv/lib/python3.6/site-packages/tensorflow/python/client/session.py\u001b[0m in \u001b[0;36mrun\u001b[0;34m(self, fetches, feed_dict, options, run_metadata)\u001b[0m\n\u001b[1;32m    887\u001b[0m     \u001b[0;32mtry\u001b[0m\u001b[0;34m:\u001b[0m\u001b[0;34m\u001b[0m\u001b[0;34m\u001b[0m\u001b[0m\n\u001b[1;32m    888\u001b[0m       result = self._run(None, fetches, feed_dict, options_ptr,\n\u001b[0;32m--> 889\u001b[0;31m                          run_metadata_ptr)\n\u001b[0m\u001b[1;32m    890\u001b[0m       \u001b[0;32mif\u001b[0m \u001b[0mrun_metadata\u001b[0m\u001b[0;34m:\u001b[0m\u001b[0;34m\u001b[0m\u001b[0;34m\u001b[0m\u001b[0m\n\u001b[1;32m    891\u001b[0m         \u001b[0mproto_data\u001b[0m \u001b[0;34m=\u001b[0m \u001b[0mtf_session\u001b[0m\u001b[0;34m.\u001b[0m\u001b[0mTF_GetBuffer\u001b[0m\u001b[0;34m(\u001b[0m\u001b[0mrun_metadata_ptr\u001b[0m\u001b[0;34m)\u001b[0m\u001b[0;34m\u001b[0m\u001b[0;34m\u001b[0m\u001b[0m\n",
      "\u001b[0;32m/data/tangle/pyimagesearch/venv/lib/python3.6/site-packages/tensorflow/python/client/session.py\u001b[0m in \u001b[0;36m_run\u001b[0;34m(self, handle, fetches, feed_dict, options, run_metadata)\u001b[0m\n\u001b[1;32m   1118\u001b[0m     \u001b[0;32mif\u001b[0m \u001b[0mfinal_fetches\u001b[0m \u001b[0;32mor\u001b[0m \u001b[0mfinal_targets\u001b[0m \u001b[0;32mor\u001b[0m \u001b[0;34m(\u001b[0m\u001b[0mhandle\u001b[0m \u001b[0;32mand\u001b[0m \u001b[0mfeed_dict_tensor\u001b[0m\u001b[0;34m)\u001b[0m\u001b[0;34m:\u001b[0m\u001b[0;34m\u001b[0m\u001b[0;34m\u001b[0m\u001b[0m\n\u001b[1;32m   1119\u001b[0m       results = self._do_run(handle, final_targets, final_fetches,\n\u001b[0;32m-> 1120\u001b[0;31m                              feed_dict_tensor, options, run_metadata)\n\u001b[0m\u001b[1;32m   1121\u001b[0m     \u001b[0;32melse\u001b[0m\u001b[0;34m:\u001b[0m\u001b[0;34m\u001b[0m\u001b[0;34m\u001b[0m\u001b[0m\n\u001b[1;32m   1122\u001b[0m       \u001b[0mresults\u001b[0m \u001b[0;34m=\u001b[0m \u001b[0;34m[\u001b[0m\u001b[0;34m]\u001b[0m\u001b[0;34m\u001b[0m\u001b[0;34m\u001b[0m\u001b[0m\n",
      "\u001b[0;32m/data/tangle/pyimagesearch/venv/lib/python3.6/site-packages/tensorflow/python/client/session.py\u001b[0m in \u001b[0;36m_do_run\u001b[0;34m(self, handle, target_list, fetch_list, feed_dict, options, run_metadata)\u001b[0m\n\u001b[1;32m   1315\u001b[0m     \u001b[0;32mif\u001b[0m \u001b[0mhandle\u001b[0m \u001b[0;32mis\u001b[0m \u001b[0;32mNone\u001b[0m\u001b[0;34m:\u001b[0m\u001b[0;34m\u001b[0m\u001b[0;34m\u001b[0m\u001b[0m\n\u001b[1;32m   1316\u001b[0m       return self._do_call(_run_fn, self._session, feeds, fetches, targets,\n\u001b[0;32m-> 1317\u001b[0;31m                            options, run_metadata)\n\u001b[0m\u001b[1;32m   1318\u001b[0m     \u001b[0;32melse\u001b[0m\u001b[0;34m:\u001b[0m\u001b[0;34m\u001b[0m\u001b[0;34m\u001b[0m\u001b[0m\n\u001b[1;32m   1319\u001b[0m       \u001b[0;32mreturn\u001b[0m \u001b[0mself\u001b[0m\u001b[0;34m.\u001b[0m\u001b[0m_do_call\u001b[0m\u001b[0;34m(\u001b[0m\u001b[0m_prun_fn\u001b[0m\u001b[0;34m,\u001b[0m \u001b[0mself\u001b[0m\u001b[0;34m.\u001b[0m\u001b[0m_session\u001b[0m\u001b[0;34m,\u001b[0m \u001b[0mhandle\u001b[0m\u001b[0;34m,\u001b[0m \u001b[0mfeeds\u001b[0m\u001b[0;34m,\u001b[0m \u001b[0mfetches\u001b[0m\u001b[0;34m)\u001b[0m\u001b[0;34m\u001b[0m\u001b[0;34m\u001b[0m\u001b[0m\n",
      "\u001b[0;32m/data/tangle/pyimagesearch/venv/lib/python3.6/site-packages/tensorflow/python/client/session.py\u001b[0m in \u001b[0;36m_do_call\u001b[0;34m(self, fn, *args)\u001b[0m\n\u001b[1;32m   1321\u001b[0m   \u001b[0;32mdef\u001b[0m \u001b[0m_do_call\u001b[0m\u001b[0;34m(\u001b[0m\u001b[0mself\u001b[0m\u001b[0;34m,\u001b[0m \u001b[0mfn\u001b[0m\u001b[0;34m,\u001b[0m \u001b[0;34m*\u001b[0m\u001b[0margs\u001b[0m\u001b[0;34m)\u001b[0m\u001b[0;34m:\u001b[0m\u001b[0;34m\u001b[0m\u001b[0;34m\u001b[0m\u001b[0m\n\u001b[1;32m   1322\u001b[0m     \u001b[0;32mtry\u001b[0m\u001b[0;34m:\u001b[0m\u001b[0;34m\u001b[0m\u001b[0;34m\u001b[0m\u001b[0m\n\u001b[0;32m-> 1323\u001b[0;31m       \u001b[0;32mreturn\u001b[0m \u001b[0mfn\u001b[0m\u001b[0;34m(\u001b[0m\u001b[0;34m*\u001b[0m\u001b[0margs\u001b[0m\u001b[0;34m)\u001b[0m\u001b[0;34m\u001b[0m\u001b[0;34m\u001b[0m\u001b[0m\n\u001b[0m\u001b[1;32m   1324\u001b[0m     \u001b[0;32mexcept\u001b[0m \u001b[0merrors\u001b[0m\u001b[0;34m.\u001b[0m\u001b[0mOpError\u001b[0m \u001b[0;32mas\u001b[0m \u001b[0me\u001b[0m\u001b[0;34m:\u001b[0m\u001b[0;34m\u001b[0m\u001b[0;34m\u001b[0m\u001b[0m\n\u001b[1;32m   1325\u001b[0m       \u001b[0mmessage\u001b[0m \u001b[0;34m=\u001b[0m \u001b[0mcompat\u001b[0m\u001b[0;34m.\u001b[0m\u001b[0mas_text\u001b[0m\u001b[0;34m(\u001b[0m\u001b[0me\u001b[0m\u001b[0;34m.\u001b[0m\u001b[0mmessage\u001b[0m\u001b[0;34m)\u001b[0m\u001b[0;34m\u001b[0m\u001b[0;34m\u001b[0m\u001b[0m\n",
      "\u001b[0;32m/data/tangle/pyimagesearch/venv/lib/python3.6/site-packages/tensorflow/python/client/session.py\u001b[0m in \u001b[0;36m_run_fn\u001b[0;34m(session, feed_dict, fetch_list, target_list, options, run_metadata)\u001b[0m\n\u001b[1;32m   1300\u001b[0m           return tf_session.TF_Run(session, options,\n\u001b[1;32m   1301\u001b[0m                                    \u001b[0mfeed_dict\u001b[0m\u001b[0;34m,\u001b[0m \u001b[0mfetch_list\u001b[0m\u001b[0;34m,\u001b[0m \u001b[0mtarget_list\u001b[0m\u001b[0;34m,\u001b[0m\u001b[0;34m\u001b[0m\u001b[0;34m\u001b[0m\u001b[0m\n\u001b[0;32m-> 1302\u001b[0;31m                                    status, run_metadata)\n\u001b[0m\u001b[1;32m   1303\u001b[0m \u001b[0;34m\u001b[0m\u001b[0m\n\u001b[1;32m   1304\u001b[0m     \u001b[0;32mdef\u001b[0m \u001b[0m_prun_fn\u001b[0m\u001b[0;34m(\u001b[0m\u001b[0msession\u001b[0m\u001b[0;34m,\u001b[0m \u001b[0mhandle\u001b[0m\u001b[0;34m,\u001b[0m \u001b[0mfeed_dict\u001b[0m\u001b[0;34m,\u001b[0m \u001b[0mfetch_list\u001b[0m\u001b[0;34m)\u001b[0m\u001b[0;34m:\u001b[0m\u001b[0;34m\u001b[0m\u001b[0;34m\u001b[0m\u001b[0m\n",
      "\u001b[0;31mKeyboardInterrupt\u001b[0m: "
     ]
    }
   ],
   "source": [
    "H = model.fit(trainX, trainY, validation_data=(testX, testY),\n",
    "             batch_size=64, epochs=100, callbacks=callbacks, verbose=1)"
   ]
  },
  {
   "cell_type": "code",
   "execution_count": 7,
   "metadata": {},
   "outputs": [
    {
     "data": {
      "text/plain": [
       "(10000, 3072)"
      ]
     },
     "execution_count": 7,
     "metadata": {},
     "output_type": "execute_result"
    }
   ],
   "source": [
    "x1.shape"
   ]
  },
  {
   "cell_type": "code",
   "execution_count": 15,
   "metadata": {},
   "outputs": [
    {
     "name": "stdout",
     "output_type": "stream",
     "text": [
      "              precision    recall  f1-score   support\n",
      "\n",
      "    airplane       0.83      0.74      0.78      1000\n",
      "  automobile       0.88      0.82      0.85      1000\n",
      "        bird       0.72      0.54      0.62      1000\n",
      "         cat       0.56      0.58      0.57      1000\n",
      "        deer       0.66      0.75      0.70      1000\n",
      "         dog       0.65      0.64      0.65      1000\n",
      "        frog       0.71      0.85      0.77      1000\n",
      "       horse       0.81      0.79      0.80      1000\n",
      "        ship       0.86      0.86      0.86      1000\n",
      "       truck       0.76      0.84      0.80      1000\n",
      "\n",
      "   micro avg       0.74      0.74      0.74     10000\n",
      "   macro avg       0.74      0.74      0.74     10000\n",
      "weighted avg       0.74      0.74      0.74     10000\n",
      "\n"
     ]
    }
   ],
   "source": [
    "predictions = model.predict(testX, batch_size=64)\n",
    "print(classification_report(testY.argmax(axis=1),\n",
    "                           predictions.argmax(axis=1), target_names=labelNames))"
   ]
  },
  {
   "cell_type": "code",
   "execution_count": null,
   "metadata": {},
   "outputs": [],
   "source": []
  }
 ],
 "metadata": {
  "kernelspec": {
   "display_name": "Python 3",
   "language": "python",
   "name": "python3"
  },
  "language_info": {
   "codemirror_mode": {
    "name": "ipython",
    "version": 3
   },
   "file_extension": ".py",
   "mimetype": "text/x-python",
   "name": "python",
   "nbconvert_exporter": "python",
   "pygments_lexer": "ipython3",
   "version": "3.6.7"
  }
 },
 "nbformat": 4,
 "nbformat_minor": 2
}
